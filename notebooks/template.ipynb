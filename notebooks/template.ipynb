{
 "cells": [
  {
   "cell_type": "code",
   "execution_count": null,
   "id": "78e8d1ab7142730d",
   "metadata": {
    "collapsed": true
   },
   "outputs": [],
   "source": [
    "import joblib\n",
    "import pandas as pd"
   ]
  },
  {
   "metadata": {},
   "cell_type": "code",
   "outputs": [],
   "execution_count": null,
   "source": [
    "\n",
    "# Load the model\n",
    "model = joblib.load('ML_Project/models/churn_model.pkl')\n",
    "\n",
    "# Load new data\n",
    "new_data = pd.read_csv('ML_Project/data/raw/new_customer_data.csv')\n",
    "\n",
    "# Preprocess the new data (assuming the same preprocessing steps)\n",
    "X_new = new_data.drop('customer_id', axis=1)  # Drop irrelevant columns\n",
    "X_new_scaled = scaler.transform(X_new)  # Scale features using the same scaler\n",
    "\n",
    "# Make predictions\n",
    "predictions = model.predict(X_new_scaled)\n",
    "\n",
    "# Add predictions to the original data\n",
    "new_data['churn_prediction'] = predictions\n",
    "\n",
    "# Save the results\n",
    "new_data.to_csv('ML_Project/data/processed/new_customer_predictions.csv', index=False)\n"
   ],
   "id": "initial_id"
  }
 ],
 "metadata": {
  "kernelspec": {
   "display_name": "Python 3",
   "language": "python",
   "name": "python3"
  },
  "language_info": {
   "codemirror_mode": {
    "name": "ipython",
    "version": 2
   },
   "file_extension": ".py",
   "mimetype": "text/x-python",
   "name": "python",
   "nbconvert_exporter": "python",
   "pygments_lexer": "ipython2",
   "version": "2.7.6"
  }
 },
 "nbformat": 4,
 "nbformat_minor": 5
}
